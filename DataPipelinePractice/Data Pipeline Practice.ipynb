{
 "cells": [
  {
   "cell_type": "code",
   "execution_count": 1,
   "id": "4594759d",
   "metadata": {},
   "outputs": [
    {
     "name": "stdout",
     "output_type": "stream",
     "text": [
      "Collecting boto3\n",
      "  Obtaining dependency information for boto3 from https://files.pythonhosted.org/packages/b5/61/beed3c4cefad9038d9ff147cdc38168d5c57b5ec2c697e7a52ff32e0bafa/boto3-1.34.40-py3-none-any.whl.metadata\n",
      "  Downloading boto3-1.34.40-py3-none-any.whl.metadata (6.6 kB)\n",
      "Collecting botocore<1.35.0,>=1.34.40 (from boto3)\n",
      "  Obtaining dependency information for botocore<1.35.0,>=1.34.40 from https://files.pythonhosted.org/packages/4b/ca/f86918789bb290e9fb7573df4d496435c91196440479afc2b803f9d615bd/botocore-1.34.40-py3-none-any.whl.metadata\n",
      "  Downloading botocore-1.34.40-py3-none-any.whl.metadata (5.7 kB)\n",
      "Requirement already satisfied: jmespath<2.0.0,>=0.7.1 in ./anaconda3/lib/python3.11/site-packages (from boto3) (0.10.0)\n",
      "Collecting s3transfer<0.11.0,>=0.10.0 (from boto3)\n",
      "  Obtaining dependency information for s3transfer<0.11.0,>=0.10.0 from https://files.pythonhosted.org/packages/12/bb/7e7912e18cd558e7880d9b58ffc57300b2c28ffba9882b3a54ba5ce3ebc4/s3transfer-0.10.0-py3-none-any.whl.metadata\n",
      "  Downloading s3transfer-0.10.0-py3-none-any.whl.metadata (1.7 kB)\n",
      "Requirement already satisfied: python-dateutil<3.0.0,>=2.1 in ./anaconda3/lib/python3.11/site-packages (from botocore<1.35.0,>=1.34.40->boto3) (2.8.2)\n",
      "Requirement already satisfied: urllib3<2.1,>=1.25.4 in ./anaconda3/lib/python3.11/site-packages (from botocore<1.35.0,>=1.34.40->boto3) (1.26.16)\n",
      "Requirement already satisfied: six>=1.5 in ./anaconda3/lib/python3.11/site-packages (from python-dateutil<3.0.0,>=2.1->botocore<1.35.0,>=1.34.40->boto3) (1.16.0)\n",
      "Downloading boto3-1.34.40-py3-none-any.whl (139 kB)\n",
      "\u001b[2K   \u001b[38;2;114;156;31m━━━━━━━━━━━━━━━━━━━━━━━━━━━━━━━━━━━━━━━\u001b[0m \u001b[32m139.3/139.3 kB\u001b[0m \u001b[31m887.1 kB/s\u001b[0m eta \u001b[36m0:00:00\u001b[0m1m906.0 kB/s\u001b[0m eta \u001b[36m0:00:01\u001b[0m\n",
      "\u001b[?25hDownloading botocore-1.34.40-py3-none-any.whl (12.0 MB)\n",
      "\u001b[2K   \u001b[38;2;114;156;31m━━━━━━━━━━━━━━━━━━━━━━━━━━━━━━━━━━━━━━━━\u001b[0m \u001b[32m12.0/12.0 MB\u001b[0m \u001b[31m3.8 MB/s\u001b[0m eta \u001b[36m0:00:00\u001b[0mm eta \u001b[36m0:00:01\u001b[0m0:01\u001b[0m:01\u001b[0m\n",
      "\u001b[?25hDownloading s3transfer-0.10.0-py3-none-any.whl (82 kB)\n",
      "\u001b[2K   \u001b[38;2;114;156;31m━━━━━━━━━━━━━━━━━━━━━━━━━━━━━━━━━━━━━━━━\u001b[0m \u001b[32m82.1/82.1 kB\u001b[0m \u001b[31m2.0 MB/s\u001b[0m eta \u001b[36m0:00:00\u001b[0mm eta \u001b[36m0:00:01\u001b[0m\n",
      "\u001b[?25hInstalling collected packages: botocore, s3transfer, boto3\n",
      "  Attempting uninstall: botocore\n",
      "    Found existing installation: botocore 1.29.76\n",
      "    Uninstalling botocore-1.29.76:\n",
      "      Successfully uninstalled botocore-1.29.76\n",
      "\u001b[31mERROR: pip's dependency resolver does not currently take into account all the packages that are installed. This behaviour is the source of the following dependency conflicts.\n",
      "aiobotocore 2.5.0 requires botocore<1.29.77,>=1.29.76, but you have botocore 1.34.40 which is incompatible.\u001b[0m\u001b[31m\n",
      "\u001b[0mSuccessfully installed boto3-1.34.40 botocore-1.34.40 s3transfer-0.10.0\n"
     ]
    }
   ],
   "source": [
    "!pip install boto3"
   ]
  },
  {
   "cell_type": "code",
   "execution_count": 1,
   "id": "534b1205",
   "metadata": {},
   "outputs": [],
   "source": [
    "import boto3\n",
    "import pandas as pd\n",
    "import psycopg2\n",
    "import json"
   ]
  },
  {
   "cell_type": "markdown",
   "id": "dea83bd5",
   "metadata": {},
   "source": [
    "# Load AWS Config"
   ]
  },
  {
   "cell_type": "code",
   "execution_count": 2,
   "id": "a0e46847",
   "metadata": {},
   "outputs": [],
   "source": [
    "import configparser\n",
    "config = configparser.ConfigParser()\n",
    "config.read_file(open('cluster.config'))"
   ]
  },
  {
   "cell_type": "code",
   "execution_count": 4,
   "id": "45ac3bea",
   "metadata": {},
   "outputs": [],
   "source": [
    "KEY = config.get(\"AWS\",\"KEY\")\n",
    "SECRET = config.get(\"AWS\",\"SECRET\")\n",
    "\n",
    "\n",
    "DWH_CLUSTER_TYPE = config.get(\"DWH\",\"DWH_CLUSTER_TYPE\")\n",
    "DWH_NUM_NODES = config.get(\"DWH\",\"DWH_NUM_NODES\")\n",
    "DWH_NODE_TYPE = config.get(\"DWH\",\"DWH_NODE_TYPE\")\n",
    "\n",
    "DWH_CLUSTER_IDENTIFIER = config.get(\"DWH\",\"DWH_CLUSTER_IDENTIFIER\")\n",
    "DWH_DB = config.get(\"DWH\",\"DWH_DB\")\n",
    "DWH_DB_USER = config.get(\"DWH\",\"DWH_DB_USER\")\n",
    "DWH_DB_PASSWORD = config.get(\"DWH\",\"DWH_DB_PASSWORD\")\n",
    "DWH_PORT = config.get(\"DWH\",\"DWH_PORT\")\n",
    "\n",
    "DWH_IAM_ROLE_NAME = config.get(\"DWH\",\"DWH_IAM_ROLE_NAME\")"
   ]
  },
  {
   "cell_type": "code",
   "execution_count": 6,
   "id": "c73558c2",
   "metadata": {},
   "outputs": [
    {
     "data": {
      "text/html": [
       "<div>\n",
       "<style scoped>\n",
       "    .dataframe tbody tr th:only-of-type {\n",
       "        vertical-align: middle;\n",
       "    }\n",
       "\n",
       "    .dataframe tbody tr th {\n",
       "        vertical-align: top;\n",
       "    }\n",
       "\n",
       "    .dataframe thead th {\n",
       "        text-align: right;\n",
       "    }\n",
       "</style>\n",
       "<table border=\"1\" class=\"dataframe\">\n",
       "  <thead>\n",
       "    <tr style=\"text-align: right;\">\n",
       "      <th></th>\n",
       "      <th>Param</th>\n",
       "      <th>Value</th>\n",
       "    </tr>\n",
       "  </thead>\n",
       "  <tbody>\n",
       "    <tr>\n",
       "      <th>0</th>\n",
       "      <td>DWH_CLUSTER_TYPE</td>\n",
       "      <td>single-node</td>\n",
       "    </tr>\n",
       "    <tr>\n",
       "      <th>1</th>\n",
       "      <td>DWH_NUM_NODES</td>\n",
       "      <td>1</td>\n",
       "    </tr>\n",
       "    <tr>\n",
       "      <th>2</th>\n",
       "      <td>DWH_NODE_TYPE</td>\n",
       "      <td>dc2.large</td>\n",
       "    </tr>\n",
       "    <tr>\n",
       "      <th>3</th>\n",
       "      <td>DWH_CLUSTER_IDENTIFIER</td>\n",
       "      <td>my-first-redshift</td>\n",
       "    </tr>\n",
       "    <tr>\n",
       "      <th>4</th>\n",
       "      <td>DWH_DB</td>\n",
       "      <td>myfirstdb</td>\n",
       "    </tr>\n",
       "    <tr>\n",
       "      <th>5</th>\n",
       "      <td>DWH_DB_USER</td>\n",
       "      <td>awsuser</td>\n",
       "    </tr>\n",
       "    <tr>\n",
       "      <th>6</th>\n",
       "      <td>DWH_DB_PASSWORD</td>\n",
       "      <td>Password123</td>\n",
       "    </tr>\n",
       "    <tr>\n",
       "      <th>7</th>\n",
       "      <td>DWH_PORT</td>\n",
       "      <td>5439</td>\n",
       "    </tr>\n",
       "    <tr>\n",
       "      <th>8</th>\n",
       "      <td>DWH_IAM_ROLE_NAME</td>\n",
       "      <td>redshift-s3-access</td>\n",
       "    </tr>\n",
       "  </tbody>\n",
       "</table>\n",
       "</div>"
      ],
      "text/plain": [
       "                    Param               Value\n",
       "0        DWH_CLUSTER_TYPE         single-node\n",
       "1           DWH_NUM_NODES                   1\n",
       "2           DWH_NODE_TYPE           dc2.large\n",
       "3  DWH_CLUSTER_IDENTIFIER   my-first-redshift\n",
       "4                  DWH_DB           myfirstdb\n",
       "5             DWH_DB_USER             awsuser\n",
       "6         DWH_DB_PASSWORD         Password123\n",
       "7                DWH_PORT                5439\n",
       "8       DWH_IAM_ROLE_NAME  redshift-s3-access"
      ]
     },
     "execution_count": 6,
     "metadata": {},
     "output_type": "execute_result"
    }
   ],
   "source": [
    "pd.DataFrame({\"Param\":[\"DWH_CLUSTER_TYPE\",\"DWH_NUM_NODES\",\"DWH_NODE_TYPE\",\"DWH_CLUSTER_IDENTIFIER\",\"DWH_DB\",\"DWH_DB_USER\",\"DWH_DB_PASSWORD\",\"DWH_PORT\",\"DWH_IAM_ROLE_NAME\"],\n",
    "                \"Value\":[DWH_CLUSTER_TYPE, DWH_NUM_NODES, DWH_NODE_TYPE, DWH_CLUSTER_IDENTIFIER, DWH_DB, DWH_DB_USER, DWH_DB_PASSWORD, DWH_PORT, DWH_IAM_ROLE_NAME]})"
   ]
  },
  {
   "cell_type": "markdown",
   "id": "dc405990",
   "metadata": {},
   "source": [
    "# Initialize Ec2, S3, IAM, and Redshift instances"
   ]
  },
  {
   "cell_type": "code",
   "execution_count": 7,
   "id": "cc5abd23",
   "metadata": {},
   "outputs": [],
   "source": [
    "ec2 = boto3.resource('ec2',\n",
    "                        region_name='us-east-2',\n",
    "                   aws_access_key_id=KEY,\n",
    "                   aws_secret_access_key=SECRET\n",
    "                   )"
   ]
  },
  {
   "cell_type": "code",
   "execution_count": 8,
   "id": "ccbf33a9",
   "metadata": {},
   "outputs": [],
   "source": [
    "s3 = boto3.resource('s3',\n",
    "                   region_name='us-east-2',\n",
    "                   aws_access_key_id=KEY,\n",
    "                   aws_secret_access_key=SECRET\n",
    "                   )\n",
    "iam = boto3.client('iam',\n",
    "                   region_name='us-east-2',\n",
    "                   aws_access_key_id=KEY,\n",
    "                   aws_secret_access_key=SECRET\n",
    "                   )\n",
    "redshift = boto3.client('redshift',\n",
    "                   region_name='us-east-2',\n",
    "                   aws_access_key_id=KEY,\n",
    "                   aws_secret_access_key=SECRET\n",
    "                   )"
   ]
  },
  {
   "cell_type": "code",
   "execution_count": 9,
   "id": "101d0be4",
   "metadata": {},
   "outputs": [
    {
     "data": {
      "text/plain": [
       "['allevents_pipe.txt',\n",
       " 'allusers_pipe.txt',\n",
       " 'category_pipe.txt',\n",
       " 'date2008_pipe.txt',\n",
       " 'listings_pipe.txt',\n",
       " 'sales_tab.txt',\n",
       " 'venue_pipe.txt']"
      ]
     },
     "execution_count": 9,
     "metadata": {},
     "output_type": "execute_result"
    }
   ],
   "source": [
    "bucket = s3.Bucket(\"tickit-items\")\n",
    "log_data_files = [filename.key for filename in bucket.objects.filter(Prefix='')]\n",
    "log_data_files"
   ]
  },
  {
   "cell_type": "code",
   "execution_count": 10,
   "id": "76228cbe",
   "metadata": {},
   "outputs": [],
   "source": [
    "roleArn = iam.get_role(RoleName=DWH_IAM_ROLE_NAME)['Role']['Arn']"
   ]
  },
  {
   "cell_type": "code",
   "execution_count": 11,
   "id": "deaf027d",
   "metadata": {},
   "outputs": [
    {
     "data": {
      "text/plain": [
       "'arn:aws:iam::992382696383:role/redshift-s3-access'"
      ]
     },
     "execution_count": 11,
     "metadata": {},
     "output_type": "execute_result"
    }
   ],
   "source": [
    "roleArn"
   ]
  },
  {
   "cell_type": "markdown",
   "id": "a57fd90d",
   "metadata": {},
   "source": [
    "# Create Redshift Cluster"
   ]
  },
  {
   "cell_type": "code",
   "execution_count": 12,
   "id": "665b204f",
   "metadata": {},
   "outputs": [
    {
     "name": "stdout",
     "output_type": "stream",
     "text": [
      "An error occurred (ClusterAlreadyExists) when calling the CreateCluster operation: Cluster already exists\n"
     ]
    }
   ],
   "source": [
    "try:\n",
    "    response = redshift.create_cluster(\n",
    "        ClusterType=DWH_CLUSTER_TYPE,\n",
    "        NodeType=DWH_NODE_TYPE,\n",
    "        \n",
    "        #identifiers & credentials\n",
    "        DBName=DWH_DB,\n",
    "        ClusterIdentifier=DWH_CLUSTER_IDENTIFIER,\n",
    "        MasterUsername=DWH_DB_USER,\n",
    "        MasterUserPassword=DWH_DB_PASSWORD,\n",
    "        \n",
    "        #roles\n",
    "        IamRoles=[roleArn]\n",
    "    )\n",
    "except Exception as e:\n",
    "    print(e)\n",
    "    "
   ]
  },
  {
   "cell_type": "code",
   "execution_count": 12,
   "id": "3f920291",
   "metadata": {},
   "outputs": [
    {
     "data": {
      "text/plain": [
       "{'Clusters': [{'ClusterIdentifier': 'my-first-redshift',\n",
       "   'NodeType': 'dc2.large',\n",
       "   'ClusterStatus': 'available',\n",
       "   'ClusterAvailabilityStatus': 'Available',\n",
       "   'MasterUsername': 'awsuser',\n",
       "   'DBName': 'myfirstdb',\n",
       "   'Endpoint': {'Address': 'my-first-redshift.cbf32tbearcy.us-east-2.redshift.amazonaws.com',\n",
       "    'Port': 5439},\n",
       "   'ClusterCreateTime': datetime.datetime(2024, 2, 13, 5, 17, 43, 44000, tzinfo=tzutc()),\n",
       "   'AutomatedSnapshotRetentionPeriod': 1,\n",
       "   'ManualSnapshotRetentionPeriod': -1,\n",
       "   'ClusterSecurityGroups': [],\n",
       "   'VpcSecurityGroups': [{'VpcSecurityGroupId': 'sg-0aaf6ed6a8ca3224e',\n",
       "     'Status': 'active'}],\n",
       "   'ClusterParameterGroups': [{'ParameterGroupName': 'default.redshift-1.0',\n",
       "     'ParameterApplyStatus': 'in-sync'}],\n",
       "   'ClusterSubnetGroupName': 'default',\n",
       "   'VpcId': 'vpc-0d6e2c48a8c676f0c',\n",
       "   'AvailabilityZone': 'us-east-2a',\n",
       "   'PreferredMaintenanceWindow': 'sat:05:30-sat:06:00',\n",
       "   'PendingModifiedValues': {},\n",
       "   'ClusterVersion': '1.0',\n",
       "   'AllowVersionUpgrade': True,\n",
       "   'NumberOfNodes': 1,\n",
       "   'PubliclyAccessible': True,\n",
       "   'Encrypted': False,\n",
       "   'ClusterPublicKey': 'ssh-rsa AAAAB3NzaC1yc2EAAAADAQABAAABAQDkcOk1c1zTEw4PouVHlgYLbbA7k48T7WBsYsDLoZ8kQuJ2G+Elhs53QWo2NE1c6m2xPapYnQ5fPzj5Ylby5XZr6d7S0yRbFXUNntmfCHysE93PBsPW+ofgzDFOobjpXPZyM7fQyaZlWD9Fq8DoP4wwBhq86zFJpFE1jTgEiXpxdnl7x4Eg5jdsgpZmH+0B687RhBc06x2GIsni6Jotce+bvaZM37TW7N1T/XtjBXL2H6hl1UYnDQACrxYHcefBX7enIYE+Y8RSP2UzFCp6cLJbFPme3N1feTyKSnEV17Iefla7NPLhYluynkmCiLne/HZHzBTRkjftA6T65i/48EV5 Amazon-Redshift\\n',\n",
       "   'ClusterNodes': [{'NodeRole': 'SHARED',\n",
       "     'PrivateIPAddress': '172.31.4.22',\n",
       "     'PublicIPAddress': '3.12.72.186'}],\n",
       "   'ClusterRevisionNumber': '63269',\n",
       "   'Tags': [],\n",
       "   'EnhancedVpcRouting': False,\n",
       "   'IamRoles': [{'IamRoleArn': 'arn:aws:iam::992382696383:role/redshift-s3-access',\n",
       "     'ApplyStatus': 'in-sync'}],\n",
       "   'MaintenanceTrackName': 'current',\n",
       "   'DeferredMaintenanceWindows': [],\n",
       "   'NextMaintenanceWindowStartTime': datetime.datetime(2024, 2, 24, 5, 30, tzinfo=tzutc()),\n",
       "   'AvailabilityZoneRelocationStatus': 'disabled',\n",
       "   'ClusterNamespaceArn': 'arn:aws:redshift:us-east-2:992382696383:namespace:d243ff44-ae7a-4c23-b513-8b213b135c71',\n",
       "   'TotalStorageCapacityInMegaBytes': 400000,\n",
       "   'AquaConfiguration': {'AquaStatus': 'disabled',\n",
       "    'AquaConfigurationStatus': 'auto'},\n",
       "   'MultiAZ': 'Disabled'}],\n",
       " 'ResponseMetadata': {'RequestId': '895aac18-8b02-4bd1-87e2-98e6d41ab94a',\n",
       "  'HTTPStatusCode': 200,\n",
       "  'HTTPHeaders': {'x-amzn-requestid': '895aac18-8b02-4bd1-87e2-98e6d41ab94a',\n",
       "   'content-type': 'text/xml',\n",
       "   'content-length': '4050',\n",
       "   'date': 'Sun, 18 Feb 2024 17:52:19 GMT'},\n",
       "  'RetryAttempts': 0}}"
      ]
     },
     "execution_count": 12,
     "metadata": {},
     "output_type": "execute_result"
    }
   ],
   "source": [
    "redshift.describe_clusters(ClusterIdentifier = DWH_CLUSTER_IDENTIFIER)"
   ]
  },
  {
   "cell_type": "code",
   "execution_count": 13,
   "id": "b827f288",
   "metadata": {},
   "outputs": [],
   "source": [
    "myClusterProps = redshift.describe_clusters(ClusterIdentifier=DWH_CLUSTER_IDENTIFIER)['Clusters'][0]"
   ]
  },
  {
   "cell_type": "code",
   "execution_count": 14,
   "id": "9aa8f3d8",
   "metadata": {},
   "outputs": [
    {
     "data": {
      "text/plain": [
       "{'ClusterIdentifier': 'my-first-redshift',\n",
       " 'NodeType': 'dc2.large',\n",
       " 'ClusterStatus': 'available',\n",
       " 'ClusterAvailabilityStatus': 'Available',\n",
       " 'MasterUsername': 'awsuser',\n",
       " 'DBName': 'myfirstdb',\n",
       " 'Endpoint': {'Address': 'my-first-redshift.cbf32tbearcy.us-east-2.redshift.amazonaws.com',\n",
       "  'Port': 5439},\n",
       " 'ClusterCreateTime': datetime.datetime(2024, 2, 13, 5, 17, 43, 44000, tzinfo=tzutc()),\n",
       " 'AutomatedSnapshotRetentionPeriod': 1,\n",
       " 'ManualSnapshotRetentionPeriod': -1,\n",
       " 'ClusterSecurityGroups': [],\n",
       " 'VpcSecurityGroups': [{'VpcSecurityGroupId': 'sg-0aaf6ed6a8ca3224e',\n",
       "   'Status': 'active'}],\n",
       " 'ClusterParameterGroups': [{'ParameterGroupName': 'default.redshift-1.0',\n",
       "   'ParameterApplyStatus': 'in-sync'}],\n",
       " 'ClusterSubnetGroupName': 'default',\n",
       " 'VpcId': 'vpc-0d6e2c48a8c676f0c',\n",
       " 'AvailabilityZone': 'us-east-2a',\n",
       " 'PreferredMaintenanceWindow': 'sat:05:30-sat:06:00',\n",
       " 'PendingModifiedValues': {},\n",
       " 'ClusterVersion': '1.0',\n",
       " 'AllowVersionUpgrade': True,\n",
       " 'NumberOfNodes': 1,\n",
       " 'PubliclyAccessible': True,\n",
       " 'Encrypted': False,\n",
       " 'ClusterPublicKey': 'ssh-rsa AAAAB3NzaC1yc2EAAAADAQABAAABAQDkcOk1c1zTEw4PouVHlgYLbbA7k48T7WBsYsDLoZ8kQuJ2G+Elhs53QWo2NE1c6m2xPapYnQ5fPzj5Ylby5XZr6d7S0yRbFXUNntmfCHysE93PBsPW+ofgzDFOobjpXPZyM7fQyaZlWD9Fq8DoP4wwBhq86zFJpFE1jTgEiXpxdnl7x4Eg5jdsgpZmH+0B687RhBc06x2GIsni6Jotce+bvaZM37TW7N1T/XtjBXL2H6hl1UYnDQACrxYHcefBX7enIYE+Y8RSP2UzFCp6cLJbFPme3N1feTyKSnEV17Iefla7NPLhYluynkmCiLne/HZHzBTRkjftA6T65i/48EV5 Amazon-Redshift\\n',\n",
       " 'ClusterNodes': [{'NodeRole': 'SHARED',\n",
       "   'PrivateIPAddress': '172.31.4.22',\n",
       "   'PublicIPAddress': '3.12.72.186'}],\n",
       " 'ClusterRevisionNumber': '63269',\n",
       " 'Tags': [],\n",
       " 'EnhancedVpcRouting': False,\n",
       " 'IamRoles': [{'IamRoleArn': 'arn:aws:iam::992382696383:role/redshift-s3-access',\n",
       "   'ApplyStatus': 'in-sync'}],\n",
       " 'MaintenanceTrackName': 'current',\n",
       " 'DeferredMaintenanceWindows': [],\n",
       " 'NextMaintenanceWindowStartTime': datetime.datetime(2024, 2, 24, 5, 30, tzinfo=tzutc()),\n",
       " 'AvailabilityZoneRelocationStatus': 'disabled',\n",
       " 'ClusterNamespaceArn': 'arn:aws:redshift:us-east-2:992382696383:namespace:d243ff44-ae7a-4c23-b513-8b213b135c71',\n",
       " 'TotalStorageCapacityInMegaBytes': 400000,\n",
       " 'AquaConfiguration': {'AquaStatus': 'disabled',\n",
       "  'AquaConfigurationStatus': 'auto'},\n",
       " 'MultiAZ': 'Disabled'}"
      ]
     },
     "execution_count": 14,
     "metadata": {},
     "output_type": "execute_result"
    }
   ],
   "source": [
    "myClusterProps"
   ]
  },
  {
   "cell_type": "code",
   "execution_count": 15,
   "id": "e91b899c",
   "metadata": {},
   "outputs": [],
   "source": [
    "DWH_ENDPOINT = myClusterProps['Endpoint']['Address']\n",
    "DWH_ROLE_NAME = myClusterProps['IamRoles'][0]['IamRoleArn']\n",
    "DB_NAME = myClusterProps['DBName']\n",
    "DB_USER = myClusterProps['MasterUsername']"
   ]
  },
  {
   "cell_type": "markdown",
   "id": "fac19765",
   "metadata": {},
   "source": [
    "# Attach VPC and Secuity group to Redshift Cluster"
   ]
  },
  {
   "cell_type": "code",
   "execution_count": 16,
   "id": "57729ea4",
   "metadata": {},
   "outputs": [
    {
     "name": "stdout",
     "output_type": "stream",
     "text": [
      "ec2.SecurityGroup(id='sg-04e835f185d636ad5')\n"
     ]
    }
   ],
   "source": [
    "try:\n",
    "    vpc = ec2.Vpc(id=myClusterProps['VpcId'])\n",
    "    defaultSg = list(vpc.security_groups.all())[0]\n",
    "    print(defaultSg)\n",
    "    \n",
    "    defaultSg.authorize_ingress(\n",
    "        GroupName=defaultSg.group_name,\n",
    "        CidrIp='0.0.0.0/0',\n",
    "        IpProtocol='TCP',\n",
    "        FromPort=int(DWH_PORT),\n",
    "        ToPort=int(DWH_PORT)\n",
    "    )\n",
    "except Exception as e:\n",
    "    print(e)"
   ]
  },
  {
   "cell_type": "markdown",
   "id": "f154244b",
   "metadata": {},
   "source": [
    "# Connect to Redshift Cluster"
   ]
  },
  {
   "cell_type": "code",
   "execution_count": 23,
   "id": "7cdf43e6",
   "metadata": {},
   "outputs": [
    {
     "name": "stdout",
     "output_type": "stream",
     "text": [
      "Requirement already satisfied: psycopg2 in /home/gowtham/anaconda3/lib/python3.11/site-packages (2.9.9)\r\n"
     ]
    }
   ],
   "source": [
    "!pip install psycopg2"
   ]
  },
  {
   "cell_type": "code",
   "execution_count": 30,
   "id": "b5b72fbb",
   "metadata": {},
   "outputs": [],
   "source": [
    "\n",
    "import psycopg2\n",
    "try:\n",
    "    conn = psycopg2.connect(host=DWH_ENDPOINT, dbname=DB_NAME, user=DB_USER, password=\"Password123\", port=5439)\n",
    "except Exception as e:\n",
    "    print(\"Error Could not make connection to the postgres DB\")\n",
    "    print(e)\n",
    "\n",
    "conn.set_session(autocommit=True)"
   ]
  },
  {
   "cell_type": "code",
   "execution_count": 31,
   "id": "3fa6e24f",
   "metadata": {},
   "outputs": [],
   "source": [
    "try:\n",
    "    cur = conn.cursor()\n",
    "except Exception as e:\n",
    "    print(\"Error Could not get cursor to the DB\")\n",
    "    print(e)"
   ]
  },
  {
   "cell_type": "markdown",
   "id": "bb8db2f3",
   "metadata": {},
   "source": [
    "# Create Data Models in Redshift"
   ]
  },
  {
   "cell_type": "code",
   "execution_count": 32,
   "id": "787ab8af",
   "metadata": {},
   "outputs": [],
   "source": [
    "try:\n",
    "    cur.execute(\"\"\"\n",
    "    create table users(\n",
    "        userid integer not null distkey sortkey,\n",
    "        username char(8),\n",
    "        firstname varchar(30),\n",
    "        lastname varchar(30),\n",
    "        city varchar(30),\n",
    "        state char(2),\n",
    "        email varchar(100),\n",
    "        phone char(14),\n",
    "        likesports boolean,\n",
    "        liketheatre boolean,\n",
    "        likeconcerts boolean,\n",
    "        likejazz boolean,\n",
    "        likeclassical boolean,\n",
    "        likeopera boolean,\n",
    "        likerock boolean,\n",
    "        likevegas boolean,\n",
    "        likebroadway boolean,\n",
    "        likemusicals boolean\n",
    "    )\n",
    "    \"\"\")\n",
    "except psycopg2.Error as e:\n",
    "    print(\"Error: Issue creating the Table\")\n",
    "    print(e)"
   ]
  },
  {
   "cell_type": "code",
   "execution_count": 33,
   "id": "34989572",
   "metadata": {},
   "outputs": [],
   "source": [
    "try:\n",
    "    cur.execute(\"\"\"\n",
    "    create table venue(\n",
    "        venueid smallint not null distkey sortkey,\n",
    "        venuename varchar(100),\n",
    "        venuecity varchar(30),\n",
    "        venuestate char(2),\n",
    "        venueseats integer\n",
    "    )\n",
    "    \"\"\")\n",
    "except psycopg2.Error as e:\n",
    "    print(\"Error: Issue creating the Table\")\n",
    "    print(e)"
   ]
  },
  {
   "cell_type": "code",
   "execution_count": 35,
   "id": "17e43f72",
   "metadata": {},
   "outputs": [],
   "source": [
    "try:\n",
    "    cur.execute(\"\"\"\n",
    "    create table category(\n",
    "        catid smallint not null distkey sortkey,\n",
    "        catgroup varchar(30),\n",
    "        catname varchar(30),\n",
    "        catdesc varchar(50)\n",
    "    );\n",
    "    \n",
    "    create table date(\n",
    "        dateid smallint not null distkey sortkey,\n",
    "        caldate date not null,\n",
    "        day character(3) not null,\n",
    "        week smallint not null,\n",
    "        month character(5) not null,\n",
    "        qtr character(5) not null,\n",
    "        year smallint not null,\n",
    "        holiday boolean default('N')\n",
    "    );\n",
    "    \n",
    "    create table event(\n",
    "        eventid smallint not null distkey sortkey,\n",
    "        venueid smallint not null,\n",
    "        catid smallint not null,\n",
    "        dateid smallint not null,\n",
    "        eventname varchar(200),\n",
    "        starttime timestamp\n",
    "    );\n",
    "    \n",
    "    create table listing(\n",
    "        listid smallint not null distkey,\n",
    "        sellerid integer not null,\n",
    "        eventid integer not null,\n",
    "        dateid smallint not null sortkey,\n",
    "        numtickets smallint not null,\n",
    "        priceperticket decimal(8,2),\n",
    "        totalprice decimal(8,2),\n",
    "        listtime timestamp\n",
    "    );\n",
    "    \"\"\")\n",
    "except psycopg2.Error as e:\n",
    "    print(\"Error: Issue creating the Table\")\n",
    "    print(e)"
   ]
  },
  {
   "cell_type": "markdown",
   "id": "4495bb64",
   "metadata": {},
   "source": [
    "# Copy Data from S3 to Redshift using COPY command"
   ]
  },
  {
   "cell_type": "code",
   "execution_count": 37,
   "id": "fc1a851d",
   "metadata": {},
   "outputs": [],
   "source": [
    "try:\n",
    "    cur.execute(\"\"\"\n",
    "        COPY users from 's3://tickit-items/allusers_pipe.txt' \n",
    "        credentials 'aws_iam_role=arn:aws:iam::992382696383:role/redshift-s3-access'\n",
    "        delimiter '|'\n",
    "        region 'us-east-2'\n",
    "        \n",
    "    \"\"\")\n",
    "except psycopg2.Error as e:\n",
    "    print(\"Error: Issue Copying the data from s3 to redshift tables\")\n",
    "    print(e)"
   ]
  },
  {
   "cell_type": "code",
   "execution_count": 38,
   "id": "19764eba",
   "metadata": {},
   "outputs": [],
   "source": [
    "try:\n",
    "    cur.execute(\"\"\"\n",
    "        select * from users;        \n",
    "    \"\"\")\n",
    "except psycopg2.Error as e:\n",
    "    print(\"Error: Issue fetching data from table\")\n",
    "    print(e)"
   ]
  },
  {
   "cell_type": "code",
   "execution_count": 41,
   "id": "d61baa66",
   "metadata": {},
   "outputs": [
    {
     "name": "stdout",
     "output_type": "stream",
     "text": [
      "(7, 'OWY35QYB', 'Tamekah', 'Juarez', 'Moultrie', 'WV', 'elementum@semperpretiumneque.ca', '(297) 875-7247', None, None, None, True, True, False, None, None, False, False)\n"
     ]
    }
   ],
   "source": [
    "row = cur.fetchone()\n",
    "print(row)"
   ]
  },
  {
   "cell_type": "markdown",
   "id": "c0ca0ee0",
   "metadata": {},
   "source": [
    "# Close DB Connection and delete redshift Cluster"
   ]
  },
  {
   "cell_type": "code",
   "execution_count": 42,
   "id": "bcd86392",
   "metadata": {},
   "outputs": [],
   "source": [
    "try:\n",
    "    conn.close()\n",
    "except psycopg2.Error as e:\n",
    "    print(e)   "
   ]
  },
  {
   "cell_type": "code",
   "execution_count": 44,
   "id": "56fde1b0",
   "metadata": {},
   "outputs": [
    {
     "data": {
      "text/plain": [
       "{'Cluster': {'ClusterIdentifier': 'my-first-redshift',\n",
       "  'NodeType': 'dc2.large',\n",
       "  'ClusterStatus': 'deleting',\n",
       "  'ClusterAvailabilityStatus': 'Modifying',\n",
       "  'MasterUsername': 'awsuser',\n",
       "  'DBName': 'myfirstdb',\n",
       "  'Endpoint': {'Address': 'my-first-redshift.cbf32tbearcy.us-east-2.redshift.amazonaws.com',\n",
       "   'Port': 5439},\n",
       "  'ClusterCreateTime': datetime.datetime(2024, 2, 13, 5, 17, 43, 44000, tzinfo=tzutc()),\n",
       "  'AutomatedSnapshotRetentionPeriod': 1,\n",
       "  'ManualSnapshotRetentionPeriod': -1,\n",
       "  'ClusterSecurityGroups': [],\n",
       "  'VpcSecurityGroups': [{'VpcSecurityGroupId': 'sg-0aaf6ed6a8ca3224e',\n",
       "    'Status': 'active'}],\n",
       "  'ClusterParameterGroups': [{'ParameterGroupName': 'default.redshift-1.0',\n",
       "    'ParameterApplyStatus': 'in-sync'}],\n",
       "  'ClusterSubnetGroupName': 'default',\n",
       "  'VpcId': 'vpc-0d6e2c48a8c676f0c',\n",
       "  'AvailabilityZone': 'us-east-2a',\n",
       "  'PreferredMaintenanceWindow': 'sat:05:30-sat:06:00',\n",
       "  'PendingModifiedValues': {},\n",
       "  'ClusterVersion': '1.0',\n",
       "  'AllowVersionUpgrade': True,\n",
       "  'NumberOfNodes': 1,\n",
       "  'PubliclyAccessible': True,\n",
       "  'Encrypted': False,\n",
       "  'Tags': [],\n",
       "  'EnhancedVpcRouting': False,\n",
       "  'IamRoles': [{'IamRoleArn': 'arn:aws:iam::992382696383:role/redshift-s3-access',\n",
       "    'ApplyStatus': 'in-sync'}],\n",
       "  'MaintenanceTrackName': 'current',\n",
       "  'DeferredMaintenanceWindows': [],\n",
       "  'NextMaintenanceWindowStartTime': datetime.datetime(2024, 2, 24, 5, 30, tzinfo=tzutc()),\n",
       "  'ClusterNamespaceArn': 'arn:aws:redshift:us-east-2:992382696383:namespace:d243ff44-ae7a-4c23-b513-8b213b135c71',\n",
       "  'TotalStorageCapacityInMegaBytes': 400000,\n",
       "  'AquaConfiguration': {'AquaStatus': 'disabled',\n",
       "   'AquaConfigurationStatus': 'auto'},\n",
       "  'MultiAZ': 'Disabled'},\n",
       " 'ResponseMetadata': {'RequestId': '504eb7f0-c344-4651-942a-455581ae504e',\n",
       "  'HTTPStatusCode': 200,\n",
       "  'HTTPHeaders': {'x-amzn-requestid': '504eb7f0-c344-4651-942a-455581ae504e',\n",
       "   'content-type': 'text/xml',\n",
       "   'content-length': '2912',\n",
       "   'date': 'Sun, 18 Feb 2024 18:48:08 GMT'},\n",
       "  'RetryAttempts': 0}}"
      ]
     },
     "execution_count": 44,
     "metadata": {},
     "output_type": "execute_result"
    }
   ],
   "source": [
    "redshift.delete_cluster(ClusterIdentifier=DWH_CLUSTER_IDENTIFIER, SkipFinalClusterSnapshot=True)"
   ]
  },
  {
   "cell_type": "code",
   "execution_count": null,
   "id": "35cc96c2",
   "metadata": {},
   "outputs": [],
   "source": []
  }
 ],
 "metadata": {
  "kernelspec": {
   "display_name": "Python 3 (ipykernel)",
   "language": "python",
   "name": "python3"
  },
  "language_info": {
   "codemirror_mode": {
    "name": "ipython",
    "version": 3
   },
   "file_extension": ".py",
   "mimetype": "text/x-python",
   "name": "python",
   "nbconvert_exporter": "python",
   "pygments_lexer": "ipython3",
   "version": "3.11.5"
  }
 },
 "nbformat": 4,
 "nbformat_minor": 5
}
